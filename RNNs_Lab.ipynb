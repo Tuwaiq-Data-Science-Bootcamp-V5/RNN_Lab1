{
 "cells": [
  {
   "cell_type": "markdown",
   "id": "cdbfec32-1b50-43e9-a648-c9879dc4b79c",
   "metadata": {},
   "source": [
    "# Import Libraries"
   ]
  },
  {
   "cell_type": "code",
   "execution_count": 1,
   "id": "e1eb792b-8cfc-44d8-9d1c-0bf8c403fb8f",
   "metadata": {},
   "outputs": [],
   "source": [
    "import os\n",
    "import re\n",
    "\n",
    "import numpy as np\n",
    "import pandas as pd\n",
    "import tensorflow as tf"
   ]
  },
  {
   "cell_type": "code",
   "execution_count": 2,
   "id": "d41105e9",
   "metadata": {},
   "outputs": [
    {
     "name": "stdout",
     "output_type": "stream",
     "text": [
      "WARNING:tensorflow:From C:\\Users\\Admin\\AppData\\Local\\Packages\\PythonSoftwareFoundation.Python.3.10_qbz5n2kfra8p0\\LocalCache\\local-packages\\Python310\\site-packages\\keras\\losses.py:2664: The name tf.losses.sparse_softmax_cross_entropy is deprecated. Please use tf.compat.v1.losses.sparse_softmax_cross_entropy instead.\n",
      "\n"
     ]
    }
   ],
   "source": [
    "from tensorflow.keras.preprocessing.text import Tokenizer\n",
    "from tensorflow.keras.models import Sequential\n",
    "from tensorflow.keras.layers import Embedding, LSTM, SimpleRNN, Dense, Dropout\n",
    "from tensorflow.keras.preprocessing.sequence import pad_sequences"
   ]
  },
  {
   "cell_type": "markdown",
   "id": "6a7705c2-42a1-4047-bbac-3a0f7465e032",
   "metadata": {},
   "source": [
    "# Load corpus"
   ]
  },
  {
   "cell_type": "markdown",
   "id": "31467209-c5d3-4a4f-a79f-4a2f6e68ce85",
   "metadata": {},
   "source": [
    "### Load Positives"
   ]
  },
  {
   "cell_type": "code",
   "execution_count": 3,
   "id": "8ef01310-47d6-44ac-aff1-abf4da07a42d",
   "metadata": {},
   "outputs": [],
   "source": [
    "train_tweets, train_labels = [], []\n",
    "\n",
    "pos = os.getcwd() + '/corpus/arabic_tweets/pos/'  # Replace with the actual directory path\n",
    "\n",
    "# Iterate over each file in the directory\n",
    "for filename in os.listdir(pos):\n",
    "    if filename.endswith('.txt'):  # Select only text files\n",
    "        file_path = os.path.join(pos, filename)\n",
    "        with open(file_path, 'r', encoding='utf-8-sig') as file:\n",
    "            file_content = file.read()\n",
    "            train_tweets.append(file_content)\n",
    "            train_labels.append(\"positive\")"
   ]
  },
  {
   "cell_type": "markdown",
   "id": "268d463c-377c-4730-9398-cb5fcaa5e44b",
   "metadata": {},
   "source": [
    "### Load Negatives"
   ]
  },
  {
   "cell_type": "code",
   "execution_count": 4,
   "id": "937bb606-b07a-4e7e-a83a-1ccce2b18263",
   "metadata": {},
   "outputs": [],
   "source": [
    "# Get the txt file negative tweet\n",
    "pos = os.getcwd() + '/corpus/arabic_tweets/neg/'  # Replace with the actual directory path\n",
    "\n",
    "# Iterate over each file in the directory\n",
    "for filename in os.listdir(pos):\n",
    "    if filename.endswith('.txt'):  # Select only text files\n",
    "        file_path = os.path.join(pos, filename)\n",
    "        with open(file_path, 'r', encoding='utf-8-sig') as file:\n",
    "            file_content = file.read()\n",
    "            train_tweets.append(file_content)\n",
    "            train_labels.append(\"negative\")"
   ]
  },
  {
   "cell_type": "markdown",
   "id": "3a2e8e33-f28b-4402-ab6d-f4925c1db165",
   "metadata": {},
   "source": [
    "### Build a dataframe"
   ]
  },
  {
   "cell_type": "code",
   "execution_count": 5,
   "id": "743b5741-d234-4d22-a833-76ec742cd6f3",
   "metadata": {},
   "outputs": [
    {
     "data": {
      "text/html": [
       "<div>\n",
       "<style scoped>\n",
       "    .dataframe tbody tr th:only-of-type {\n",
       "        vertical-align: middle;\n",
       "    }\n",
       "\n",
       "    .dataframe tbody tr th {\n",
       "        vertical-align: top;\n",
       "    }\n",
       "\n",
       "    .dataframe thead th {\n",
       "        text-align: right;\n",
       "    }\n",
       "</style>\n",
       "<table border=\"1\" class=\"dataframe\">\n",
       "  <thead>\n",
       "    <tr style=\"text-align: right;\">\n",
       "      <th></th>\n",
       "      <th>Tweets</th>\n",
       "      <th>Labels</th>\n",
       "    </tr>\n",
       "  </thead>\n",
       "  <tbody>\n",
       "    <tr>\n",
       "      <th>0</th>\n",
       "      <td>نحن الذين يتحول كل ما نود أن نقوله إلى دعاء لل...</td>\n",
       "      <td>positive</td>\n",
       "    </tr>\n",
       "    <tr>\n",
       "      <th>1</th>\n",
       "      <td>وفي النهاية لن يبقىٰ معك آحدإلا من رأىٰ الجمال...</td>\n",
       "      <td>positive</td>\n",
       "    </tr>\n",
       "    <tr>\n",
       "      <th>2</th>\n",
       "      <td>نمش ننوم ما دا ديل ولادنا 💚\\n</td>\n",
       "      <td>positive</td>\n",
       "    </tr>\n",
       "    <tr>\n",
       "      <th>3</th>\n",
       "      <td>تعدل النت وشفتها ✌\\n</td>\n",
       "      <td>positive</td>\n",
       "    </tr>\n",
       "    <tr>\n",
       "      <th>4</th>\n",
       "      <td>🎥 المهمة الأولى في \"جدة\" ✔💪🏼 💙 #الهلال #فيديو_...</td>\n",
       "      <td>positive</td>\n",
       "    </tr>\n",
       "  </tbody>\n",
       "</table>\n",
       "</div>"
      ],
      "text/plain": [
       "                                              Tweets    Labels\n",
       "0  نحن الذين يتحول كل ما نود أن نقوله إلى دعاء لل...  positive\n",
       "1  وفي النهاية لن يبقىٰ معك آحدإلا من رأىٰ الجمال...  positive\n",
       "2                      نمش ننوم ما دا ديل ولادنا 💚\\n  positive\n",
       "3                               تعدل النت وشفتها ✌\\n  positive\n",
       "4  🎥 المهمة الأولى في \"جدة\" ✔💪🏼 💙 #الهلال #فيديو_...  positive"
      ]
     },
     "execution_count": 5,
     "metadata": {},
     "output_type": "execute_result"
    }
   ],
   "source": [
    "train_dic = {\n",
    "    'Tweets' : train_tweets,\n",
    "    'Labels' : train_labels\n",
    "}\n",
    "\n",
    "train_corpus = pd.DataFrame(train_dic)\n",
    "train_corpus.head()"
   ]
  },
  {
   "cell_type": "markdown",
   "id": "6b046ada-13fc-45d2-9056-b4115de8e812",
   "metadata": {},
   "source": [
    "# EDA\n",
    "\n",
    "##### Explore your dataset"
   ]
  },
  {
   "cell_type": "code",
   "execution_count": 6,
   "id": "8b6d563b-a771-43b4-8e43-3688275b1f34",
   "metadata": {},
   "outputs": [
    {
     "data": {
      "text/html": [
       "<div>\n",
       "<style scoped>\n",
       "    .dataframe tbody tr th:only-of-type {\n",
       "        vertical-align: middle;\n",
       "    }\n",
       "\n",
       "    .dataframe tbody tr th {\n",
       "        vertical-align: top;\n",
       "    }\n",
       "\n",
       "    .dataframe thead th {\n",
       "        text-align: right;\n",
       "    }\n",
       "</style>\n",
       "<table border=\"1\" class=\"dataframe\">\n",
       "  <thead>\n",
       "    <tr style=\"text-align: right;\">\n",
       "      <th></th>\n",
       "      <th>Tweets</th>\n",
       "      <th>Labels</th>\n",
       "    </tr>\n",
       "  </thead>\n",
       "  <tbody>\n",
       "    <tr>\n",
       "      <th>58746</th>\n",
       "      <td>#أمي فقيدتي وأن مرت الأيام.. وبدأ الجميع بنسيا...</td>\n",
       "      <td>negative</td>\n",
       "    </tr>\n",
       "    <tr>\n",
       "      <th>58747</th>\n",
       "      <td>مره في السنه ما كل اسبوع عاد 😢\\n</td>\n",
       "      <td>negative</td>\n",
       "    </tr>\n",
       "    <tr>\n",
       "      <th>58748</th>\n",
       "      <td>#يوم_الجمعه اسال الله عز وجل في هذا اليوم الفض...</td>\n",
       "      <td>negative</td>\n",
       "    </tr>\n",
       "    <tr>\n",
       "      <th>58749</th>\n",
       "      <td>يعني الغاء العقود الاولي كانت تسكيته لنا شسالف...</td>\n",
       "      <td>negative</td>\n",
       "    </tr>\n",
       "    <tr>\n",
       "      <th>58750</th>\n",
       "      <td>الفار 🐀 في عهد خليل جلال 😲\\n</td>\n",
       "      <td>negative</td>\n",
       "    </tr>\n",
       "  </tbody>\n",
       "</table>\n",
       "</div>"
      ],
      "text/plain": [
       "                                                  Tweets    Labels\n",
       "58746  #أمي فقيدتي وأن مرت الأيام.. وبدأ الجميع بنسيا...  negative\n",
       "58747                   مره في السنه ما كل اسبوع عاد 😢\\n  negative\n",
       "58748  #يوم_الجمعه اسال الله عز وجل في هذا اليوم الفض...  negative\n",
       "58749  يعني الغاء العقود الاولي كانت تسكيته لنا شسالف...  negative\n",
       "58750                       الفار 🐀 في عهد خليل جلال 😲\\n  negative"
      ]
     },
     "execution_count": 6,
     "metadata": {},
     "output_type": "execute_result"
    }
   ],
   "source": [
    "# Write your code ^_^\n",
    "train_corpus.tail()"
   ]
  },
  {
   "cell_type": "code",
   "execution_count": 7,
   "id": "6cf0faef",
   "metadata": {},
   "outputs": [
    {
     "data": {
      "text/html": [
       "<div>\n",
       "<style scoped>\n",
       "    .dataframe tbody tr th:only-of-type {\n",
       "        vertical-align: middle;\n",
       "    }\n",
       "\n",
       "    .dataframe tbody tr th {\n",
       "        vertical-align: top;\n",
       "    }\n",
       "\n",
       "    .dataframe thead th {\n",
       "        text-align: right;\n",
       "    }\n",
       "</style>\n",
       "<table border=\"1\" class=\"dataframe\">\n",
       "  <thead>\n",
       "    <tr style=\"text-align: right;\">\n",
       "      <th></th>\n",
       "      <th>count</th>\n",
       "      <th>unique</th>\n",
       "      <th>top</th>\n",
       "      <th>freq</th>\n",
       "    </tr>\n",
       "  </thead>\n",
       "  <tbody>\n",
       "    <tr>\n",
       "      <th>Tweets</th>\n",
       "      <td>58751</td>\n",
       "      <td>36723</td>\n",
       "      <td>بمناسبة فوز الهلال .. 💙 سحب على آيفون XR📱 رتوي...</td>\n",
       "      <td>479</td>\n",
       "    </tr>\n",
       "    <tr>\n",
       "      <th>Labels</th>\n",
       "      <td>58751</td>\n",
       "      <td>2</td>\n",
       "      <td>positive</td>\n",
       "      <td>29849</td>\n",
       "    </tr>\n",
       "  </tbody>\n",
       "</table>\n",
       "</div>"
      ],
      "text/plain": [
       "        count unique                                                top   freq\n",
       "Tweets  58751  36723  بمناسبة فوز الهلال .. 💙 سحب على آيفون XR📱 رتوي...    479\n",
       "Labels  58751      2                                           positive  29849"
      ]
     },
     "execution_count": 7,
     "metadata": {},
     "output_type": "execute_result"
    }
   ],
   "source": [
    "train_corpus.describe().T"
   ]
  },
  {
   "cell_type": "code",
   "execution_count": 8,
   "id": "a010732c",
   "metadata": {},
   "outputs": [
    {
     "name": "stdout",
     "output_type": "stream",
     "text": [
      "<class 'pandas.core.frame.DataFrame'>\n",
      "RangeIndex: 58751 entries, 0 to 58750\n",
      "Data columns (total 2 columns):\n",
      " #   Column  Non-Null Count  Dtype \n",
      "---  ------  --------------  ----- \n",
      " 0   Tweets  58751 non-null  object\n",
      " 1   Labels  58751 non-null  object\n",
      "dtypes: object(2)\n",
      "memory usage: 918.1+ KB\n"
     ]
    }
   ],
   "source": [
    "train_corpus.info()"
   ]
  },
  {
   "cell_type": "code",
   "execution_count": null,
   "id": "a6de98cf",
   "metadata": {},
   "outputs": [],
   "source": []
  },
  {
   "cell_type": "markdown",
   "id": "d8d8d4a6-89a4-47b1-bf43-08dc09b97506",
   "metadata": {},
   "source": [
    "# Data Preprocessing"
   ]
  },
  {
   "cell_type": "markdown",
   "id": "01f8d9fa-6fb7-4352-aadb-3abeb932c412",
   "metadata": {},
   "source": [
    "### Shuffle all rows"
   ]
  },
  {
   "cell_type": "code",
   "execution_count": 9,
   "id": "246bb815-274b-43a3-9d60-967a5864a6da",
   "metadata": {},
   "outputs": [
    {
     "data": {
      "text/html": [
       "<div>\n",
       "<style scoped>\n",
       "    .dataframe tbody tr th:only-of-type {\n",
       "        vertical-align: middle;\n",
       "    }\n",
       "\n",
       "    .dataframe tbody tr th {\n",
       "        vertical-align: top;\n",
       "    }\n",
       "\n",
       "    .dataframe thead th {\n",
       "        text-align: right;\n",
       "    }\n",
       "</style>\n",
       "<table border=\"1\" class=\"dataframe\">\n",
       "  <thead>\n",
       "    <tr style=\"text-align: right;\">\n",
       "      <th></th>\n",
       "      <th>Tweets</th>\n",
       "      <th>Labels</th>\n",
       "    </tr>\n",
       "  </thead>\n",
       "  <tbody>\n",
       "    <tr>\n",
       "      <th>0</th>\n",
       "      <td>صباحك ورد 🌹\\n</td>\n",
       "      <td>positive</td>\n",
       "    </tr>\n",
       "    <tr>\n",
       "      <th>1</th>\n",
       "      <td>اهاا كنت احسبك اتحادي 😂\\n</td>\n",
       "      <td>positive</td>\n",
       "    </tr>\n",
       "    <tr>\n",
       "      <th>2</th>\n",
       "      <td>#الهلال_الاهلي اسئل الله لكل من ساعدني برتويت ...</td>\n",
       "      <td>negative</td>\n",
       "    </tr>\n",
       "    <tr>\n",
       "      <th>3</th>\n",
       "      <td>قوتنا بعد الله دائما أنتم🌹💙 الف مبرووك 💙 الحمد...</td>\n",
       "      <td>positive</td>\n",
       "    </tr>\n",
       "    <tr>\n",
       "      <th>4</th>\n",
       "      <td>جزائريون ضد التطبيع من مسيرات جمعة البارحة معا...</td>\n",
       "      <td>negative</td>\n",
       "    </tr>\n",
       "    <tr>\n",
       "      <th>...</th>\n",
       "      <td>...</td>\n",
       "      <td>...</td>\n",
       "    </tr>\n",
       "    <tr>\n",
       "      <th>58746</th>\n",
       "      <td>احد يفهمني شصاير هنا 😭\\n</td>\n",
       "      <td>negative</td>\n",
       "    </tr>\n",
       "    <tr>\n",
       "      <th>58747</th>\n",
       "      <td>ارجووكم اتوجهو للقياده في تمثيليه بتاعت ضرب رص...</td>\n",
       "      <td>negative</td>\n",
       "    </tr>\n",
       "    <tr>\n",
       "      <th>58748</th>\n",
       "      <td>يارب فرج همومنا وارح قلوبنا واغفر ذنوبنا واشف ...</td>\n",
       "      <td>positive</td>\n",
       "    </tr>\n",
       "    <tr>\n",
       "      <th>58749</th>\n",
       "      <td>#ساعه_استجابه اللهم طمانينه ونورا فب قلوبنا ال...</td>\n",
       "      <td>positive</td>\n",
       "    </tr>\n",
       "    <tr>\n",
       "      <th>58750</th>\n",
       "      <td>ناسي مفتاحي ولي ربع ساعه عند الباب وشكلي مطول 💔\\n</td>\n",
       "      <td>negative</td>\n",
       "    </tr>\n",
       "  </tbody>\n",
       "</table>\n",
       "<p>58751 rows × 2 columns</p>\n",
       "</div>"
      ],
      "text/plain": [
       "                                                  Tweets    Labels\n",
       "0                                          صباحك ورد 🌹\\n  positive\n",
       "1                              اهاا كنت احسبك اتحادي 😂\\n  positive\n",
       "2      #الهلال_الاهلي اسئل الله لكل من ساعدني برتويت ...  negative\n",
       "3      قوتنا بعد الله دائما أنتم🌹💙 الف مبرووك 💙 الحمد...  positive\n",
       "4      جزائريون ضد التطبيع من مسيرات جمعة البارحة معا...  negative\n",
       "...                                                  ...       ...\n",
       "58746                           احد يفهمني شصاير هنا 😭\\n  negative\n",
       "58747  ارجووكم اتوجهو للقياده في تمثيليه بتاعت ضرب رص...  negative\n",
       "58748  يارب فرج همومنا وارح قلوبنا واغفر ذنوبنا واشف ...  positive\n",
       "58749  #ساعه_استجابه اللهم طمانينه ونورا فب قلوبنا ال...  positive\n",
       "58750  ناسي مفتاحي ولي ربع ساعه عند الباب وشكلي مطول 💔\\n  negative\n",
       "\n",
       "[58751 rows x 2 columns]"
      ]
     },
     "execution_count": 9,
     "metadata": {},
     "output_type": "execute_result"
    }
   ],
   "source": [
    "# Write your code ^_^\n",
    "df = train_corpus.sample(frac=1).reset_index(drop=True)\n",
    "df"
   ]
  },
  {
   "cell_type": "markdown",
   "id": "7c10a499-afa6-4d35-aa8a-53dbcae8e557",
   "metadata": {},
   "source": [
    "### Data cleaning\n",
    "\n",
    "**Hint: remove URLs, Hashtags, alphanumeric characters, punctuation marks, stop words, extra spaces**"
   ]
  },
  {
   "cell_type": "code",
   "execution_count": 10,
   "id": "d141959a",
   "metadata": {},
   "outputs": [],
   "source": [
    "URL_pattern = r\"http[s]?://(?:[a-zA-Z]|[0-9]|[$-_@.&+]|[!*\\\\(\\\\),]|(?:%[0-9a-fA-F][0-9a-fA-F]))+\"\n",
    "hashtag_pattern = r\"#\\w+\"\n",
    "mention_pattern = r\"@\\w+\"\n",
    "alphanumeric_pattern = r\"\\w*\\d\\w*\"\n",
    "punctuation_pattern = r\"[^\\w\\s]\"\n",
    "retweet_pattern = r\"^RT[\\s]+\""
   ]
  },
  {
   "cell_type": "code",
   "execution_count": 11,
   "id": "957b0161-4c2d-4f33-90a3-e8892a27455a",
   "metadata": {},
   "outputs": [],
   "source": [
    "def load_stopwords(file_path):\n",
    "    with open(file_path, 'r', encoding=\"utf-8\") as f:\n",
    "        stopwords = f.readlines()\n",
    "        stop_set = set(m.strip() for m in stopwords)\n",
    "    return frozenset(stop_set)\n",
    "\n",
    "def process_text(text, stop_words):\n",
    "    # Remove URLs\n",
    "    text = re.sub(URL_pattern, '', text)\n",
    "    \n",
    "    # Remove hashtags\n",
    "    text = re.sub(hashtag_pattern, '', text)\n",
    "    \n",
    "    # Remove mention\n",
    "    text = re.sub(mention_pattern, '', text)\n",
    "\n",
    "    # Remove alphanumeric characters\n",
    "    text = re.sub(alphanumeric_pattern, '', text)\n",
    "\n",
    "    # Remove punctuation marks\n",
    "    text = re.sub(punctuation_pattern, '', text)\n",
    "    \n",
    "    # Remove Retweet marks\n",
    "    text = re.sub(retweet_pattern, '', text)\n",
    "\n",
    "    # Remove stop words using the provided set\n",
    "    text = ' '.join([word for word in text.split() if word.lower() not in stop_words])\n",
    "    text = ' '.join(text.split())\n",
    "    return text"
   ]
  },
  {
   "cell_type": "markdown",
   "id": "d5996172",
   "metadata": {},
   "source": [
    "#### Now Clean your text using above function or implement it from scrach"
   ]
  },
  {
   "cell_type": "code",
   "execution_count": 12,
   "id": "3c6791b3",
   "metadata": {},
   "outputs": [
    {
     "data": {
      "text/html": [
       "<div>\n",
       "<style scoped>\n",
       "    .dataframe tbody tr th:only-of-type {\n",
       "        vertical-align: middle;\n",
       "    }\n",
       "\n",
       "    .dataframe tbody tr th {\n",
       "        vertical-align: top;\n",
       "    }\n",
       "\n",
       "    .dataframe thead th {\n",
       "        text-align: right;\n",
       "    }\n",
       "</style>\n",
       "<table border=\"1\" class=\"dataframe\">\n",
       "  <thead>\n",
       "    <tr style=\"text-align: right;\">\n",
       "      <th></th>\n",
       "      <th>Tweets</th>\n",
       "      <th>Labels</th>\n",
       "    </tr>\n",
       "  </thead>\n",
       "  <tbody>\n",
       "    <tr>\n",
       "      <th>0</th>\n",
       "      <td>صباحك ورد 🌹\\n</td>\n",
       "      <td>positive</td>\n",
       "    </tr>\n",
       "    <tr>\n",
       "      <th>1</th>\n",
       "      <td>اهاا كنت احسبك اتحادي 😂\\n</td>\n",
       "      <td>positive</td>\n",
       "    </tr>\n",
       "    <tr>\n",
       "      <th>2</th>\n",
       "      <td>#الهلال_الاهلي اسئل الله لكل من ساعدني برتويت ...</td>\n",
       "      <td>negative</td>\n",
       "    </tr>\n",
       "    <tr>\n",
       "      <th>3</th>\n",
       "      <td>قوتنا بعد الله دائما أنتم🌹💙 الف مبرووك 💙 الحمد...</td>\n",
       "      <td>positive</td>\n",
       "    </tr>\n",
       "    <tr>\n",
       "      <th>4</th>\n",
       "      <td>جزائريون ضد التطبيع من مسيرات جمعة البارحة معا...</td>\n",
       "      <td>negative</td>\n",
       "    </tr>\n",
       "  </tbody>\n",
       "</table>\n",
       "</div>"
      ],
      "text/plain": [
       "                                              Tweets    Labels\n",
       "0                                      صباحك ورد 🌹\\n  positive\n",
       "1                          اهاا كنت احسبك اتحادي 😂\\n  positive\n",
       "2  #الهلال_الاهلي اسئل الله لكل من ساعدني برتويت ...  negative\n",
       "3  قوتنا بعد الله دائما أنتم🌹💙 الف مبرووك 💙 الحمد...  positive\n",
       "4  جزائريون ضد التطبيع من مسيرات جمعة البارحة معا...  negative"
      ]
     },
     "execution_count": 12,
     "metadata": {},
     "output_type": "execute_result"
    }
   ],
   "source": [
    "df.head()"
   ]
  },
  {
   "cell_type": "code",
   "execution_count": 13,
   "id": "42e2c527",
   "metadata": {},
   "outputs": [
    {
     "data": {
      "text/html": [
       "<div>\n",
       "<style scoped>\n",
       "    .dataframe tbody tr th:only-of-type {\n",
       "        vertical-align: middle;\n",
       "    }\n",
       "\n",
       "    .dataframe tbody tr th {\n",
       "        vertical-align: top;\n",
       "    }\n",
       "\n",
       "    .dataframe thead th {\n",
       "        text-align: right;\n",
       "    }\n",
       "</style>\n",
       "<table border=\"1\" class=\"dataframe\">\n",
       "  <thead>\n",
       "    <tr style=\"text-align: right;\">\n",
       "      <th></th>\n",
       "      <th>Tweets</th>\n",
       "      <th>Labels</th>\n",
       "    </tr>\n",
       "  </thead>\n",
       "  <tbody>\n",
       "    <tr>\n",
       "      <th>0</th>\n",
       "      <td>صباحك ورد</td>\n",
       "      <td>positive</td>\n",
       "    </tr>\n",
       "    <tr>\n",
       "      <th>1</th>\n",
       "      <td>اهاا كنت احسبك اتحادي</td>\n",
       "      <td>positive</td>\n",
       "    </tr>\n",
       "    <tr>\n",
       "      <th>2</th>\n",
       "      <td>اسئل الله لكل ساعدني برتويت الله يفرجها فرج يت...</td>\n",
       "      <td>negative</td>\n",
       "    </tr>\n",
       "    <tr>\n",
       "      <th>3</th>\n",
       "      <td>قوتنا الله دائما أنتم مبرووك الحمد لله الشكر</td>\n",
       "      <td>positive</td>\n",
       "    </tr>\n",
       "    <tr>\n",
       "      <th>4</th>\n",
       "      <td>جزائريون التطبيع مسيرات جمعة البارحة معا للتحر...</td>\n",
       "      <td>negative</td>\n",
       "    </tr>\n",
       "    <tr>\n",
       "      <th>...</th>\n",
       "      <td>...</td>\n",
       "      <td>...</td>\n",
       "    </tr>\n",
       "    <tr>\n",
       "      <th>58746</th>\n",
       "      <td>يفهمني شصاير هنا</td>\n",
       "      <td>negative</td>\n",
       "    </tr>\n",
       "    <tr>\n",
       "      <th>58747</th>\n",
       "      <td>ارجووكم اتوجهو للقياده تمثيليه بتاعت ضرب رصاص ...</td>\n",
       "      <td>negative</td>\n",
       "    </tr>\n",
       "    <tr>\n",
       "      <th>58748</th>\n",
       "      <td>يارب فرج همومنا وارح قلوبنا واغفر ذنوبنا واشف ...</td>\n",
       "      <td>positive</td>\n",
       "    </tr>\n",
       "    <tr>\n",
       "      <th>58749</th>\n",
       "      <td>اللهم طمانينه ونورا فب قلوبنا اللهم ازهر ضفاف ...</td>\n",
       "      <td>positive</td>\n",
       "    </tr>\n",
       "    <tr>\n",
       "      <th>58750</th>\n",
       "      <td>ناسي مفتاحي ولي ربع ساعه الباب وشكلي مطول</td>\n",
       "      <td>negative</td>\n",
       "    </tr>\n",
       "  </tbody>\n",
       "</table>\n",
       "<p>58751 rows × 2 columns</p>\n",
       "</div>"
      ],
      "text/plain": [
       "                                                  Tweets    Labels\n",
       "0                                              صباحك ورد  positive\n",
       "1                                  اهاا كنت احسبك اتحادي  positive\n",
       "2      اسئل الله لكل ساعدني برتويت الله يفرجها فرج يت...  negative\n",
       "3           قوتنا الله دائما أنتم مبرووك الحمد لله الشكر  positive\n",
       "4      جزائريون التطبيع مسيرات جمعة البارحة معا للتحر...  negative\n",
       "...                                                  ...       ...\n",
       "58746                                   يفهمني شصاير هنا  negative\n",
       "58747  ارجووكم اتوجهو للقياده تمثيليه بتاعت ضرب رصاص ...  negative\n",
       "58748  يارب فرج همومنا وارح قلوبنا واغفر ذنوبنا واشف ...  positive\n",
       "58749  اللهم طمانينه ونورا فب قلوبنا اللهم ازهر ضفاف ...  positive\n",
       "58750          ناسي مفتاحي ولي ربع ساعه الباب وشكلي مطول  negative\n",
       "\n",
       "[58751 rows x 2 columns]"
      ]
     },
     "execution_count": 13,
     "metadata": {},
     "output_type": "execute_result"
    }
   ],
   "source": [
    "# Write your code ^_^\n",
    "stop=load_stopwords(R'C:\\Users\\Admin\\Desktop\\BootCamp\\RNN_Lab1\\corpus\\Stop_Words.txt')\n",
    "for i in range(len(df['Tweets'])):\n",
    "    df['Tweets'][i] = process_text(df['Tweets'][i], stop)\n",
    "df"
   ]
  },
  {
   "cell_type": "markdown",
   "id": "acf0cb63",
   "metadata": {},
   "source": [
    "#### Extra: you could do stemming or lemmatization before training"
   ]
  },
  {
   "cell_type": "code",
   "execution_count": null,
   "id": "c5668f9d",
   "metadata": {},
   "outputs": [],
   "source": []
  },
  {
   "cell_type": "markdown",
   "id": "faba5351",
   "metadata": {},
   "source": [
    "# Wrong Split"
   ]
  },
  {
   "cell_type": "code",
   "execution_count": null,
   "id": "4f9414d9",
   "metadata": {},
   "outputs": [],
   "source": [
    "X = df.drop(columns=['Labels'])\n",
    "y = df.drop(columns=['Tweets'])"
   ]
  },
  {
   "cell_type": "code",
   "execution_count": null,
   "id": "116e73af-8d88-4928-8243-6f456fc6de40",
   "metadata": {},
   "outputs": [],
   "source": [
    "# Write your code ^_^\n",
    "from sklearn.model_selection import train_test_split\n",
    "X_train, X_test, y_train, y_test = train_test_split(X, y, test_size=0.20, random_state=42)"
   ]
  },
  {
   "cell_type": "code",
   "execution_count": null,
   "id": "76cf8920",
   "metadata": {},
   "outputs": [],
   "source": [
    "X_train = X_train.reset_index(drop=True)\n",
    "y_train = y_train.reset_index(drop=True)"
   ]
  },
  {
   "cell_type": "code",
   "execution_count": null,
   "id": "1c9bc9b1",
   "metadata": {},
   "outputs": [],
   "source": [
    "X_train"
   ]
  },
  {
   "cell_type": "markdown",
   "id": "160549cf-bffd-4205-a8fa-a6aa0695bcd8",
   "metadata": {},
   "source": [
    "# Tokenizer"
   ]
  },
  {
   "cell_type": "code",
   "execution_count": 14,
   "id": "30a8a56d",
   "metadata": {},
   "outputs": [
    {
     "data": {
      "text/plain": [
       "58751"
      ]
     },
     "execution_count": 14,
     "metadata": {},
     "output_type": "execute_result"
    }
   ],
   "source": [
    "corpus = df[\"Tweets\"].astype(str).tolist()\n",
    "len(corpus)"
   ]
  },
  {
   "cell_type": "code",
   "execution_count": 15,
   "id": "3f152bfd-478f-4cdd-b17e-885d4649019f",
   "metadata": {},
   "outputs": [],
   "source": [
    "tokenizer = Tokenizer(oov_token='<oov>')\n",
    "tokenizer.fit_on_texts(corpus) \n",
    "word_index = tokenizer.word_index"
   ]
  },
  {
   "cell_type": "markdown",
   "id": "5bba90d2-7712-4e80-9120-c82f495b5f66",
   "metadata": {},
   "source": [
    "# Text to sequence"
   ]
  },
  {
   "cell_type": "code",
   "execution_count": 16,
   "id": "b8d2fb10-2a1a-4201-8d23-a3301dcb51fe",
   "metadata": {},
   "outputs": [
    {
     "name": "stdout",
     "output_type": "stream",
     "text": [
      "Total number of words:  77383\n"
     ]
    }
   ],
   "source": [
    "# Write your code ^_^\n",
    "sequences = tokenizer.texts_to_sequences(corpus)\n",
    "num_classes = len(tokenizer.word_index) + 1\n",
    "\n",
    "print(\"Total number of words: \", num_classes)"
   ]
  },
  {
   "cell_type": "code",
   "execution_count": 17,
   "id": "9402f7bf",
   "metadata": {},
   "outputs": [],
   "source": [
    "input_sequences = []\n",
    "labels = []\n",
    "for sequence in sequences:\n",
    "    for i in range(1, len(sequence)):\n",
    "        n_gram_sequence = sequence[:i+1]\n",
    "        input_sequences.append(n_gram_sequence[:-1])\n",
    "        labels.append(n_gram_sequence[-1])"
   ]
  },
  {
   "cell_type": "markdown",
   "id": "21c31c7d-0375-4ef2-9f51-dccef70793d3",
   "metadata": {},
   "source": [
    "# Pad sequence"
   ]
  },
  {
   "cell_type": "code",
   "execution_count": 18,
   "id": "0d05e3c6-6f92-4a49-a904-f0af742ffe4b",
   "metadata": {},
   "outputs": [],
   "source": [
    "maxSeq = max([len(seq) for seq in input_sequences])\n",
    "pad_seq = pad_sequences(input_sequences, maxlen=maxSeq,padding='pre')"
   ]
  },
  {
   "cell_type": "markdown",
   "id": "e6a1993f",
   "metadata": {},
   "source": [
    "___"
   ]
  },
  {
   "cell_type": "markdown",
   "id": "b485120c-47f1-43e9-b6c1-cbe0a69f04c7",
   "metadata": {},
   "source": [
    "# Split data to train and test"
   ]
  },
  {
   "cell_type": "code",
   "execution_count": 19,
   "id": "7cdeda18",
   "metadata": {},
   "outputs": [],
   "source": [
    "split_ratio = 0.8 \n",
    "split_index = int(split_ratio * len(input_sequences))\n",
    "x_train, y_train = input_sequences[:split_index], labels[:split_index]\n",
    "x_test, y_test = input_sequences[split_index:], labels[split_index:] # 20 for the test"
   ]
  },
  {
   "cell_type": "markdown",
   "id": "8e5d0909-8e90-4aef-9ddb-42c3597791cb",
   "metadata": {},
   "source": [
    "# RNN Model"
   ]
  },
  {
   "cell_type": "code",
   "execution_count": 20,
   "id": "47efb8b2-7635-48ba-a4ae-4118862e74a7",
   "metadata": {},
   "outputs": [
    {
     "name": "stdout",
     "output_type": "stream",
     "text": [
      "WARNING:tensorflow:From C:\\Users\\Admin\\AppData\\Local\\Packages\\PythonSoftwareFoundation.Python.3.10_qbz5n2kfra8p0\\LocalCache\\local-packages\\Python310\\site-packages\\keras\\backend.py:873: The name tf.get_default_graph is deprecated. Please use tf.compat.v1.get_default_graph instead.\n",
      "\n",
      "WARNING:tensorflow:From C:\\Users\\Admin\\AppData\\Local\\Packages\\PythonSoftwareFoundation.Python.3.10_qbz5n2kfra8p0\\LocalCache\\local-packages\\Python310\\site-packages\\keras\\optimizers\\__init__.py:300: The name tf.train.Optimizer is deprecated. Please use tf.compat.v1.train.Optimizer instead.\n",
      "\n"
     ]
    }
   ],
   "source": [
    "modelRNN = Sequential()\n",
    "modelRNN.add(Embedding(input_dim = num_classes, output_dim = 100,input_length=maxSeq))\n",
    "modelRNN.add(SimpleRNN(100,return_sequences =True))\n",
    "modelRNN.add(SimpleRNN(100))\n",
    "modelRNN.add(Dense(units = num_classes, activation = \"softmax\"))\n",
    "\n",
    "modelRNN.compile(\n",
    "    optimizer = \"adam\",loss = 'categorical_crossentropy',\n",
    "    metrics = ['accuracy']\n",
    ")"
   ]
  },
  {
   "cell_type": "markdown",
   "id": "d8a35492-747b-4fea-a80c-1602ff36da21",
   "metadata": {},
   "source": [
    "# LSTM Model"
   ]
  },
  {
   "cell_type": "code",
   "execution_count": 21,
   "id": "dea5fb34-e15c-45cf-bf39-5a4c65a28705",
   "metadata": {},
   "outputs": [],
   "source": [
    "modelLSTM = Sequential()\n",
    "modelLSTM.add(Embedding(input_dim = num_classes, output_dim = 100,input_length=maxSeq))\n",
    "modelLSTM.add(SimpleRNN(100,return_sequences =True))\n",
    "modelLSTM.add(SimpleRNN(100))\n",
    "modelLSTM.add(Dense(units = num_classes, activation = \"softmax\"))\n",
    "\n",
    "modelLSTM.compile(\n",
    "    optimizer = \"adam\",loss = 'categorical_crossentropy',\n",
    "    metrics = ['accuracy']\n",
    ")"
   ]
  },
  {
   "cell_type": "code",
   "execution_count": 22,
   "id": "b2542012",
   "metadata": {},
   "outputs": [],
   "source": [
    "class DataGenerator(tf.keras.utils.Sequence):\n",
    "    def __init__(self, tokenizer, sequences, labels, batch_size, max_sequence_length, num_classes):\n",
    "        self.tokenizer = tokenizer\n",
    "        self.sequences = sequences\n",
    "        self.labels = labels\n",
    "        self.batch_size = batch_size\n",
    "        self.max_sequence_length = max_sequence_length\n",
    "        self.num_classes = num_classes\n",
    "\n",
    "    def __len__(self):\n",
    "        return len(self.sequences) // self.batch_size\n",
    "\n",
    "    def __getitem__(self, index):\n",
    "        batch_indices = np.random.choice(len(self.sequences), size=self.batch_size, replace=False)\n",
    "        batch_sequences = [self.sequences[i] for i in batch_indices]\n",
    "        batch_labels = [self.labels[i] for i in batch_indices]\n",
    "        x = pad_sequences(batch_sequences, maxlen=self.max_sequence_length)\n",
    "        y = self.one_hot_encode(batch_labels)\n",
    "\n",
    "        return x, y\n",
    "\n",
    "    def one_hot_encode(self, labels):\n",
    "        encoded_labels = np.zeros((len(labels), self.num_classes), dtype=np.float32)\n",
    "        for i, label in enumerate(labels):\n",
    "            encoded_labels[i, label] = 1.0\n",
    "        return encoded_labels"
   ]
  },
  {
   "cell_type": "code",
   "execution_count": 23,
   "id": "793f4828",
   "metadata": {},
   "outputs": [],
   "source": [
    "train_data_generator = DataGenerator(tokenizer, x_train, y_train, 64, maxSeq, num_classes)\n",
    "test_data_generator = DataGenerator(tokenizer, x_test, y_test, 64, maxSeq, num_classes)"
   ]
  },
  {
   "cell_type": "markdown",
   "id": "7e105a33-8de7-406f-a5fb-c1a558c7bb9d",
   "metadata": {},
   "source": [
    "# Evaulation and Comparsion"
   ]
  },
  {
   "cell_type": "markdown",
   "metadata": {},
   "source": [
    "___"
   ]
  },
  {
   "cell_type": "markdown",
   "metadata": {},
   "source": [
    "- trying to run on my gpu but it does not detect the gpu"
   ]
  },
  {
   "cell_type": "code",
   "execution_count": 24,
   "id": "a839ef16",
   "metadata": {},
   "outputs": [
    {
     "name": "stdout",
     "output_type": "stream",
     "text": [
      "GPU is NOT available\n"
     ]
    }
   ],
   "source": [
    "import tensorflow as tf\n",
    "\n",
    "# Check for GPU availability\n",
    "if tf.test.gpu_device_name():\n",
    "    print('GPU is available')\n",
    "else:\n",
    "    print('GPU is NOT available')\n",
    "\n",
    "# Explicitly set GPU device\n",
    "physical_devices = tf.config.list_physical_devices('GPU')\n",
    "if physical_devices:\n",
    "    tf.config.experimental.set_memory_growth(physical_devices[0], True)\n"
   ]
  },
  {
   "cell_type": "code",
   "execution_count": 25,
   "id": "3a956b35-0604-44d5-87f2-eacfb36870d2",
   "metadata": {},
   "outputs": [
    {
     "name": "stdout",
     "output_type": "stream",
     "text": [
      "Epoch 1/10\n",
      "WARNING:tensorflow:From C:\\Users\\Admin\\AppData\\Local\\Packages\\PythonSoftwareFoundation.Python.3.10_qbz5n2kfra8p0\\LocalCache\\local-packages\\Python310\\site-packages\\keras\\utils\\tf_utils.py:490: The name tf.ragged.RaggedTensorValue is deprecated. Please use tf.compat.v1.ragged.RaggedTensorValue instead.\n",
      "\n",
      "WARNING:tensorflow:From C:\\Users\\Admin\\AppData\\Local\\Packages\\PythonSoftwareFoundation.Python.3.10_qbz5n2kfra8p0\\LocalCache\\local-packages\\Python310\\site-packages\\keras\\engine\\base_layer_utils.py:380: The name tf.executing_eagerly_outside_functions is deprecated. Please use tf.compat.v1.executing_eagerly_outside_functions instead.\n",
      "\n",
      "5975/5975 [==============================] - 752s 126ms/step - loss: 8.2412 - accuracy: 0.1349\n",
      "Epoch 2/10\n",
      "5975/5975 [==============================] - 746s 125ms/step - loss: 5.7438 - accuracy: 0.3619\n",
      "Epoch 3/10\n",
      "5975/5975 [==============================] - 745s 125ms/step - loss: 4.5526 - accuracy: 0.4752\n",
      "Epoch 4/10\n",
      "5975/5975 [==============================] - 747s 125ms/step - loss: 3.8309 - accuracy: 0.5441\n",
      "Epoch 5/10\n",
      "5975/5975 [==============================] - 745s 125ms/step - loss: 3.3756 - accuracy: 0.5870\n",
      "Epoch 6/10\n",
      "5975/5975 [==============================] - 745s 125ms/step - loss: 2.9599 - accuracy: 0.6287\n",
      "Epoch 7/10\n",
      "5975/5975 [==============================] - 745s 125ms/step - loss: 2.8015 - accuracy: 0.6392\n",
      "Epoch 8/10\n",
      "5975/5975 [==============================] - 747s 125ms/step - loss: 2.5381 - accuracy: 0.6668\n",
      "Epoch 9/10\n",
      "5975/5975 [==============================] - 753s 126ms/step - loss: 2.2502 - accuracy: 0.7002\n",
      "Epoch 10/10\n",
      "5975/5975 [==============================] - 752s 126ms/step - loss: 2.0635 - accuracy: 0.7216\n"
     ]
    }
   ],
   "source": [
    "with tf.device(\"/gpu:0\"):\n",
    "    modelRNN.fit(train_data_generator,epochs=10,batch_size=64)"
   ]
  },
  {
   "cell_type": "code",
   "execution_count": 26,
   "id": "4b128205",
   "metadata": {},
   "outputs": [
    {
     "name": "stdout",
     "output_type": "stream",
     "text": [
      "Epoch 1/10\n",
      "5975/5975 [==============================] - 751s 125ms/step - loss: 8.2831 - accuracy: 0.1308\n",
      "Epoch 2/10\n",
      "5975/5975 [==============================] - 749s 125ms/step - loss: 5.7658 - accuracy: 0.3567\n",
      "Epoch 3/10\n",
      "5975/5975 [==============================] - 748s 125ms/step - loss: 4.6022 - accuracy: 0.4689\n",
      "Epoch 4/10\n",
      "5975/5975 [==============================] - 742s 124ms/step - loss: 3.8696 - accuracy: 0.5399\n",
      "Epoch 5/10\n",
      "5975/5975 [==============================] - 744s 124ms/step - loss: 3.3668 - accuracy: 0.5887\n",
      "Epoch 6/10\n",
      "5975/5975 [==============================] - 744s 124ms/step - loss: 2.9797 - accuracy: 0.6268\n",
      "Epoch 7/10\n",
      "5975/5975 [==============================] - 743s 124ms/step - loss: 2.6708 - accuracy: 0.6575\n",
      "Epoch 8/10\n",
      "5975/5975 [==============================] - 743s 124ms/step - loss: 2.4167 - accuracy: 0.6846\n",
      "Epoch 9/10\n",
      "5975/5975 [==============================] - 744s 124ms/step - loss: 2.3709 - accuracy: 0.6841\n",
      "Epoch 10/10\n",
      "5975/5975 [==============================] - 751s 126ms/step - loss: 2.1704 - accuracy: 0.7065\n"
     ]
    }
   ],
   "source": [
    "with tf.device(\"/gpu:0\"):\n",
    "    modelLSTM.fit(train_data_generator,epochs=10,batch_size=64)"
   ]
  },
  {
   "cell_type": "code",
   "execution_count": 29,
   "metadata": {},
   "outputs": [],
   "source": [
    "import pickle\n",
    "pickle_out = open('modelRNN1.pkl','wb')\n",
    "pickle.dump(modelRNN,pickle_out)\n",
    "pickle_out.close()\n"
   ]
  },
  {
   "cell_type": "code",
   "execution_count": 30,
   "metadata": {},
   "outputs": [],
   "source": [
    "pickle_out = open('modelLSTM1.pkl','wb')\n",
    "pickle.dump(modelLSTM,pickle_out)\n",
    "pickle_out.close()\n"
   ]
  },
  {
   "cell_type": "code",
   "execution_count": 32,
   "metadata": {},
   "outputs": [],
   "source": [
    "from tensorflow import keras"
   ]
  },
  {
   "cell_type": "code",
   "execution_count": 33,
   "id": "5f69f8cb",
   "metadata": {},
   "outputs": [],
   "source": [
    "keras.models.save_model(modelRNN, \"modelRNN.h5\")"
   ]
  },
  {
   "cell_type": "code",
   "execution_count": 34,
   "id": "7b6ca669",
   "metadata": {},
   "outputs": [],
   "source": [
    "keras.models.save_model(modelLSTM, \"modelLSTM.h5\")"
   ]
  },
  {
   "cell_type": "code",
   "execution_count": 27,
   "id": "c4ce3380",
   "metadata": {},
   "outputs": [
    {
     "name": "stdout",
     "output_type": "stream",
     "text": [
      "1493/1493 [==============================] - 49s 32ms/step - loss: 6.3257 - accuracy: 0.4854\n",
      "Loss: 6.32572078704834\n",
      "Accuracy: 0.4853692352771759\n"
     ]
    }
   ],
   "source": [
    "loss, accuracy = modelRNN.evaluate(test_data_generator)\n",
    "print(\"Loss:\", loss)\n",
    "print(\"Accuracy:\", accuracy)"
   ]
  },
  {
   "cell_type": "code",
   "execution_count": 28,
   "id": "c8bb30c7",
   "metadata": {},
   "outputs": [
    {
     "name": "stdout",
     "output_type": "stream",
     "text": [
      "1493/1493 [==============================] - 49s 33ms/step - loss: 6.3153 - accuracy: 0.4856\n",
      "Loss: 6.315305233001709\n",
      "Accuracy: 0.4855680763721466\n"
     ]
    }
   ],
   "source": [
    "loss, accuracy = modelLSTM.evaluate(test_data_generator)\n",
    "print(\"Loss:\", loss)\n",
    "print(\"Accuracy:\", accuracy)"
   ]
  },
  {
   "cell_type": "markdown",
   "id": "a1000c17",
   "metadata": {},
   "source": [
    "| EVA\\Model | RNN | LSTM |\n",
    "|----------|----------|----------|\n",
    "| Accuracy | 48.54 | 48.56 |\n",
    "| Loss | 6.326 | 6.315 |\n",
    "\n"
   ]
  },
  {
   "cell_type": "markdown",
   "id": "65f1a7fa",
   "metadata": {},
   "source": []
  }
 ],
 "metadata": {
  "kernelspec": {
   "display_name": "Python 3 (ipykernel)",
   "language": "python",
   "name": "python3"
  },
  "language_info": {
   "codemirror_mode": {
    "name": "ipython",
    "version": 3
   },
   "file_extension": ".py",
   "mimetype": "text/x-python",
   "name": "python",
   "nbconvert_exporter": "python",
   "pygments_lexer": "ipython3",
   "version": "3.10.11"
  }
 },
 "nbformat": 4,
 "nbformat_minor": 5
}
